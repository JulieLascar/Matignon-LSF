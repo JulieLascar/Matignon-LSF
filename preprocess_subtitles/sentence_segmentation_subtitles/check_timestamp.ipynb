{
 "cells": [
  {
   "cell_type": "markdown",
   "metadata": {},
   "source": [
    "# Vérifier les timestamps des sous-titres\n",
    "\n",
    "Dans le traitement, il peut y avoir des erreurs où le sous-titres de fin n'est pas le bon (il est antérieur au temps de début). Ce script permet de localiser le problème et de modifier le sous-titre de fin, en prenant le temps de début du sous-titre suivant"
   ]
  },
  {
   "cell_type": "markdown",
   "metadata": {},
   "source": []
  }
 ],
 "metadata": {
  "language_info": {
   "name": "python"
  }
 },
 "nbformat": 4,
 "nbformat_minor": 2
}
