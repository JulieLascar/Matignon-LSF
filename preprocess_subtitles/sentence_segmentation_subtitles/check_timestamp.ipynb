{
 "cells": [
  {
   "cell_type": "markdown",
   "metadata": {},
   "source": [
    "# Vérifier les timestamps des sous-titres\n",
    "\n",
    "Dans le traitement, il peut y avoir des erreurs où le sous-titres de fin n'est pas le bon (il est antérieur au temps de début). Ce script permet de localiser le problème et de modifier le sous-titre de fin, en prenant le temps de début du sous-titre suivant"
   ]
  },
  {
   "cell_type": "code",
   "execution_count": 5,
   "metadata": {},
   "outputs": [],
   "source": [
    "import module_traitement as m\n",
    "from datetime import datetime, timedelta"
   ]
  },
  {
   "cell_type": "code",
   "execution_count": 6,
   "metadata": {},
   "outputs": [],
   "source": [
    "def time_to_milliseconds(timestamp):\n",
    "\n",
    "    # Split the timestamp into hours, minutes, seconds, and milliseconds\n",
    "\n",
    "    milliseconds = int(timestamp.split('.')[1])\n",
    "\n",
    "    tmp = timestamp.split('.')[0]\n",
    "\n",
    "    hours, minutes, seconds = map(int, tmp.split(':'))\n",
    "\n",
    "    #seconds, milliseconds = map(int, seconds.split('.'))\n",
    "\n",
    "     \n",
    "\n",
    "    # Calculate the total milliseconds\n",
    "\n",
    "    total_milliseconds = (hours * 3600 + minutes * 60 + seconds) * 1000 + milliseconds\n",
    "\n",
    "    return total_milliseconds"
   ]
  },
  {
   "cell_type": "code",
   "execution_count": 9,
   "metadata": {},
   "outputs": [],
   "source": [
    "files_to_check = m.lister_fichiers_with_path(\"test_new_seg_cr/\")"
   ]
  },
  {
   "cell_type": "code",
   "execution_count": 10,
   "metadata": {},
   "outputs": [
    {
     "name": "stdout",
     "output_type": "stream",
     "text": [
      "Traitement test_new_seg_cr/0-RtcGGzUoE.vtt\n",
      "écoutez,\n",
      "00:31:06.990 - 00:31:06.990 = 0\n",
      "1 ERREURS A CORRIGER\n"
     ]
    }
   ],
   "source": [
    "nb_erreur = 0\n",
    "for file in files_to_check:\n",
    "    dict_sub = m.get_dict_vtt(file)\n",
    "    for k,v in dict_sub.items():\n",
    "        start_time = time_to_milliseconds(v['start'])\n",
    "        end_time = time_to_milliseconds(v['end'])\n",
    "        duration = end_time - start_time\n",
    "        if duration <= 0:\n",
    "            print(f\"Traitement {file}\")\n",
    "            print(v[\"text\"])\n",
    "            print(f\"{v['end']} - {v['start']} = {end_time-start_time}\")\n",
    "            nb_erreur = nb_erreur+1\n",
    "\n",
    "print(f\"{nb_erreur} ERREURS A CORRIGER\")\n",
    "\n",
    "\n",
    "        \n",
    "        "
   ]
  },
  {
   "cell_type": "code",
   "execution_count": null,
   "metadata": {},
   "outputs": [],
   "source": []
  }
 ],
 "metadata": {
  "kernelspec": {
   "display_name": "lexic_cr",
   "language": "python",
   "name": "python3"
  },
  "language_info": {
   "codemirror_mode": {
    "name": "ipython",
    "version": 3
   },
   "file_extension": ".py",
   "mimetype": "text/x-python",
   "name": "python",
   "nbconvert_exporter": "python",
   "pygments_lexer": "ipython3",
   "version": "3.11.7"
  }
 },
 "nbformat": 4,
 "nbformat_minor": 2
}
