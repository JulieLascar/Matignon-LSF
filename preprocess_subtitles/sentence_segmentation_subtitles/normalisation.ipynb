{
 "cells": [
  {
   "cell_type": "markdown",
   "metadata": {},
   "source": [
    "# Normalisation des sous titres\n",
    "\n",
    "Récupérer un fichier texte grâce à une regexp des fichiers. "
   ]
  },
  {
   "cell_type": "code",
   "execution_count": 1,
   "metadata": {},
   "outputs": [],
   "source": [
    "import spacy\n",
    "import os\n",
    "import re\n",
    "import module_traitement as m\n",
    "spacy.prefer_gpu()\n",
    "nlp = spacy.load(\"fr_dep_news_trf\")\n",
    "from spacy.language import Language"
   ]
  },
  {
   "cell_type": "code",
   "execution_count": 2,
   "metadata": {},
   "outputs": [],
   "source": [
    "# TEST - Pour Mediapi - LSF \n",
    "file_with_path = m.lister_fichiers_with_path(\"../data/aligned_mediapi/\")\n",
    "folder = m.lister_fichiers(\"../data/aligned_mediapi/\")\n",
    "output_seg = \"test_new_seg_mediapi/\"\n",
    "output_cleaning = \"test_cleaning_mediapi/\"\n",
    "#output_sent = \"../data/sentence_matignon/\""
   ]
  },
  {
   "cell_type": "code",
   "execution_count": 16,
   "metadata": {},
   "outputs": [],
   "source": [
    "pattern = re.compile(r' [A-Z]\\.')\n",
    "for file,name in zip(file_with_path,folder):\n",
    "    dict_sub = m.get_dict_vtt_clean(file)\n",
    "    new_text = \"\"\n",
    "    for k,v in dict_sub.items():\n",
    "        for kk,vv in v.items():\n",
    "            if kk == \"text\":\n",
    "                new_text = new_text + vv.strip() + \" \"\n",
    "    phrases = m.segmenter_texte_en_phrases(new_text)\n",
    "    with open(f\"test_sent_file_mediapi/{name}\", 'w', encoding='utf-8') as f:\n",
    "        for index, element in enumerate(phrases):\n",
    "            f.write(element.strip())\n",
    "            if index < len(phrases) - 1:\n",
    "                f.write(\"\\n\")\n"
   ]
  },
  {
   "cell_type": "code",
   "execution_count": 5,
   "metadata": {},
   "outputs": [],
   "source": [
    "\n"
   ]
  },
  {
   "cell_type": "code",
   "execution_count": null,
   "metadata": {},
   "outputs": [],
   "source": []
  }
 ],
 "metadata": {
  "kernelspec": {
   "display_name": "lexenv",
   "language": "python",
   "name": "python3"
  },
  "language_info": {
   "codemirror_mode": {
    "name": "ipython",
    "version": 3
   },
   "file_extension": ".py",
   "mimetype": "text/x-python",
   "name": "python",
   "nbconvert_exporter": "python",
   "pygments_lexer": "ipython3",
   "version": "3.11.7"
  }
 },
 "nbformat": 4,
 "nbformat_minor": 2
}
