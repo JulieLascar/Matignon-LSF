{
 "cells": [
  {
   "cell_type": "markdown",
   "metadata": {},
   "source": [
    "# Normalisation des sous titres\n",
    "\n",
    "- transformer le texte en lettre (compliqué...)\n",
    "- enlever les M. etc en Monsieur"
   ]
  },
  {
   "cell_type": "code",
   "execution_count": 1,
   "metadata": {},
   "outputs": [],
   "source": [
    "import spacy\n",
    "import os\n",
    "import re\n",
    "import module_traitement as m\n",
    "spacy.prefer_gpu()\n",
    "nlp = spacy.load(\"fr_dep_news_trf\")\n",
    "from spacy.language import Language"
   ]
  },
  {
   "cell_type": "code",
   "execution_count": 2,
   "metadata": {},
   "outputs": [],
   "source": [
    "# TEST - Pour Matignon - LSF \n",
    "file_with_path = m.lister_fichiers_with_path(\"../data/cr_audio_aligned/\")\n",
    "folder = m.lister_fichiers(\"../data/cr_audio_aligned/\")\n",
    "output_seg = \"test_new_seg_cr/\"\n",
    "output_cleaning = \"test_cleaning_cr/\"\n",
    "#output_sent = \"../data/sentence_matignon/\""
   ]
  },
  {
   "cell_type": "code",
   "execution_count": 4,
   "metadata": {},
   "outputs": [],
   "source": [
    "def get_dict_vtt(input):\n",
    "    with open(input,encoding=\"utf-8\") as f:\n",
    "        lines = f.readlines()\n",
    "\n",
    "    dict_sub = {}\n",
    "    i = 0\n",
    "    j = 0  \n",
    "\n",
    "    while j < len(lines): \n",
    "        element = lines[j]\n",
    "        if element.startswith(\"00:\") or element.startswith(\"01:\") or element.startswith(\"02:\"):\n",
    "            # Extraire le temps de début et de fin\n",
    "            timing_line = element.strip().split(' --> ')\n",
    "            start_time, end_time = timing_line\n",
    "\n",
    "            text = \"\"\n",
    "            while j + 1 < len(lines) and not lines[j + 1].startswith(\"00:\") and not lines[j+1].startswith(\"01:\") and not lines[j+1].startswith(\"02:\"):\n",
    "                j += 1\n",
    "                content = lines[j]\n",
    "                text = text + \" \" + content.strip()\n",
    "\n",
    "            dict_sub[i] = {'start': start_time, 'end': end_time, 'text': text.strip()}\n",
    "            i += 1\n",
    "\n",
    "        j += 1\n",
    "\n",
    "    return dict_sub"
   ]
  },
  {
   "cell_type": "code",
   "execution_count": 24,
   "metadata": {},
   "outputs": [],
   "source": [
    "def convertir_grand_nombre(nombre_texte):\n",
    "    nombre_sans_points = re.sub(r'(\\d)\\.(\\d)', r'\\1\\2', nombre_texte)\n",
    "    return nombre_sans_points\n"
   ]
  },
  {
   "cell_type": "code",
   "execution_count": 25,
   "metadata": {},
   "outputs": [],
   "source": [
    "def get_dict_vtt_clean(input):\n",
    "    with open(input,encoding=\"utf-8\") as f:\n",
    "        lines = f.readlines()\n",
    "\n",
    "    dict_sub = {}\n",
    "    i = 0\n",
    "    j = 0  \n",
    "\n",
    "    while j < len(lines): \n",
    "        element = lines[j]\n",
    "        if element.startswith(\"00:\") or element.startswith(\"01:\") or element.startswith(\"02:\"):\n",
    "            # Extraire le temps de début et de fin\n",
    "            timing_line = element.strip().split(' --> ')\n",
    "            start_time, end_time = timing_line\n",
    "\n",
    "            text = \"\"\n",
    "            while j + 1 < len(lines) and not lines[j + 1].startswith(\"00:\") and not lines[j+1].startswith(\"01:\") and not lines[j+1].startswith(\"02:\"):\n",
    "                j += 1\n",
    "                content = lines[j]\n",
    "                text = text + \" \" + content.strip()\n",
    "                text=text.replace(\"... -G. Attal : \",\"\")\n",
    "                text=text.replace(\"-G. Attal : \",\"\")\n",
    "                text=text.replace(\"G. Attal : \",\"\")\n",
    "                text = text.replace(\"-Bonjour\", \"Bonjour\")\n",
    "                text = text.replace(\"Bonjour.\", \"Bonjour,\")\n",
    "                text = text.replace(\" M.\",\" Monsieur\")\n",
    "                text = text.replace(\" Mme\",\" Madame\")\n",
    "                text = re.sub(r'[\"“”«»]', '', text)\n",
    "                if text.startswith(\"-\"):\n",
    "                    text = text.replace(\"-\",\"\")\n",
    "                text = convertir_grand_nombre(text)\n",
    "\n",
    "            dict_sub[i] = {'start': start_time, 'end': end_time, 'text': text.strip()}\n",
    "            i += 1\n",
    "\n",
    "        j += 1\n",
    "\n",
    "    return dict_sub"
   ]
  },
  {
   "cell_type": "code",
   "execution_count": 26,
   "metadata": {},
   "outputs": [],
   "source": [
    "def segmenter_texte_en_phrases(texte):\n",
    "    # Utilisation de l'expression régulière pour diviser le texte en phrases\n",
    "    phrases = re.split(r'(?<!\\w\\.\\w.)(?<![A-Z][a-z]\\.)(?<=\\.|\\?|\\!)\\s', texte)\n",
    "    return phrases"
   ]
  },
  {
   "cell_type": "code",
   "execution_count": 27,
   "metadata": {},
   "outputs": [],
   "source": [
    "pattern = re.compile(r' [A-Z]\\.')\n",
    "for file,name in zip(file_with_path,folder):\n",
    "    dict_sub = get_dict_vtt_clean(file)\n",
    "    new_text = \"\"\n",
    "    for k,v in dict_sub.items():\n",
    "        for kk,vv in v.items():\n",
    "            if kk == \"text\":\n",
    "                if vv.startswith(\"-\"):\n",
    "                    vv = vv.replace(\"-\",\"\")\n",
    "                new_text = new_text + vv + \" \"\n",
    "    phrases = segmenter_texte_en_phrases(new_text)\n",
    "    with open(f\"try/{name}\",'w',encoding='utf-8') as f:\n",
    "        for element in phrases:\n",
    "            f.write(element + \"\\n\")"
   ]
  },
  {
   "cell_type": "code",
   "execution_count": null,
   "metadata": {},
   "outputs": [],
   "source": []
  }
 ],
 "metadata": {
  "kernelspec": {
   "display_name": "lexenv",
   "language": "python",
   "name": "python3"
  },
  "language_info": {
   "codemirror_mode": {
    "name": "ipython",
    "version": 3
   },
   "file_extension": ".py",
   "mimetype": "text/x-python",
   "name": "python",
   "nbconvert_exporter": "python",
   "pygments_lexer": "ipython3",
   "version": "3.11.7"
  }
 },
 "nbformat": 4,
 "nbformat_minor": 2
}
