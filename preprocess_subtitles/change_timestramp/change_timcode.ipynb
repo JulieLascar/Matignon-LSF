{
 "cells": [
  {
   "cell_type": "markdown",
   "metadata": {},
   "source": [
    "# Changement timestamp des sous-titres\n",
    "\n",
    "Ce note book contient les fonctions pour modifier les timestamps des sous-titres\n",
    "1. Ajouter du temps aux sous-titres (par ex. 3 secondes)\n",
    "2. Ajouter du bruit dans des sous-titre, en suivant une Gaussienne\n",
    "\n",
    "**Attention : utiliser des fichiers .vtt et changer le nom des dossiers dans la fonction `lister_fichiers` au besoin**"
   ]
  },
  {
   "cell_type": "code",
   "execution_count": 2,
   "metadata": {},
   "outputs": [],
   "source": [
    "import re\n",
    "from datetime import datetime, timedelta\n",
    "import os \n",
    "import argparse\n",
    "from collections import defaultdict,Counter\n",
    "import json \n",
    "import csv\n",
    "from tqdm import tqdm\n",
    "from typing import List\n",
    "import module as m\n",
    "import numpy as np\n",
    "from scipy.stats import norm"
   ]
  },
  {
   "cell_type": "markdown",
   "metadata": {},
   "source": [
    "## Ajouter du temps aux sous-titres"
   ]
  },
  {
   "cell_type": "code",
   "execution_count": 2,
   "metadata": {},
   "outputs": [],
   "source": [
    "# Matignon LSF - sous-titres d'origine\n",
    "list_files = m.lister_fichiers(\"../data/cr_audio_aligned/\") "
   ]
  },
  {
   "cell_type": "code",
   "execution_count": 3,
   "metadata": {},
   "outputs": [],
   "source": [
    "# Matignon LSF - sous titres segmentés en phrase\n",
    "list_files = m.lister_fichiers(\"../data/cr_audio_aligned_sent_seg/\")"
   ]
  },
  {
   "cell_type": "code",
   "execution_count": 4,
   "metadata": {},
   "outputs": [],
   "source": [
    "seconde_to_add = 3.5\n",
    "\n",
    "for files in list_files:\n",
    "    # enregistrer les fichiers dans le dossier plus_one_sec/\n",
    "    new_file = \"cr_plus_3-5_sec/\" + str(os.path.splitext(os.path.basename(files))[0]) +\".vtt\"\n",
    "    with open(files,\"r\") as file:\n",
    "        with open(new_file,\"w\") as output:\n",
    "            content = \"\"\n",
    "            line = file.readline()\n",
    "            while line:\n",
    "                # on prend la ligne qui correspond au timestamps\n",
    "                if line.startswith(\"01:\") or line.startswith(\"00:\") or line.startswith(\"02:\"):\n",
    "                    timing_line = line.strip().split(' --> ')\n",
    "                    start_time, end_time = timing_line\n",
    "                    # et on modifie le timestamps à chaque fois\n",
    "                    start_time = m.change_timecode(start_time,seconde_to_add)\n",
    "                    end_time = m.change_timecode(end_time,seconde_to_add)\n",
    "                    output.write(f\"{start_time} --> {end_time}\\n\")\n",
    "                else:\n",
    "                    output.write(line)\n",
    "                line = file.readline()"
   ]
  },
  {
   "cell_type": "markdown",
   "metadata": {},
   "source": [
    "## Ajouter du bruit dans les timestamps des sous-titres\n",
    "\n",
    "Code utilisé pour bruiter les sous-titres de Médiapi (en suivant plus ou moins les informations du corpus BOBSL sur le non alignement des sous-titres avec le signe), afin de pouvoir utiliser un transformer d'alignement des sous-titres (finetuning)"
   ]
  },
  {
   "cell_type": "code",
   "execution_count": 22,
   "metadata": {},
   "outputs": [],
   "source": [
    "# Mediapi - sous titres d'origine\n",
    "files_list = m.lister_fichiers(\"../data/aligned_mediapi/\")\n",
    "\n",
    "\n",
    "# Mediapi - sous titres segmentés en phrase\n",
    "files_list = m.lister_fichiers(\"../data/mediapi_aligned_sent_seg/\")"
   ]
  },
  {
   "cell_type": "code",
   "execution_count": 20,
   "metadata": {},
   "outputs": [
    {
     "name": "stdout",
     "output_type": "stream",
     "text": [
      "data/new_mediapi/67f46497f9.vtt non_aligned_mediapi_sent_seg/67f46497f9.vtt\n",
      "data/new_mediapi/b41d730e81.vtt non_aligned_mediapi_sent_seg/b41d730e81.vtt\n",
      "data/new_mediapi/0481a7f0af.vtt non_aligned_mediapi_sent_seg/0481a7f0af.vtt\n",
      "data/new_mediapi/90d094256e.vtt non_aligned_mediapi_sent_seg/90d094256e.vtt\n",
      "data/new_mediapi/b4823671dc.vtt non_aligned_mediapi_sent_seg/b4823671dc.vtt\n",
      "data/new_mediapi/947de0ab18.vtt non_aligned_mediapi_sent_seg/947de0ab18.vtt\n",
      "data/new_mediapi/7e92fc992c.vtt non_aligned_mediapi_sent_seg/7e92fc992c.vtt\n",
      "data/new_mediapi/0ad3102bff.vtt non_aligned_mediapi_sent_seg/0ad3102bff.vtt\n",
      "data/new_mediapi/60ab9aaef7.vtt non_aligned_mediapi_sent_seg/60ab9aaef7.vtt\n",
      "data/new_mediapi/863dc1167b.vtt non_aligned_mediapi_sent_seg/863dc1167b.vtt\n",
      "data/new_mediapi/a7756039fe.vtt non_aligned_mediapi_sent_seg/a7756039fe.vtt\n",
      "data/new_mediapi/708db8d36a.vtt non_aligned_mediapi_sent_seg/708db8d36a.vtt\n",
      "data/new_mediapi/152c562843.vtt non_aligned_mediapi_sent_seg/152c562843.vtt\n"
     ]
    },
    {
     "ename": "OverflowError",
     "evalue": "date value out of range",
     "output_type": "error",
     "traceback": [
      "\u001b[0;31m---------------------------------------------------------------------------\u001b[0m",
      "\u001b[0;31mOverflowError\u001b[0m                             Traceback (most recent call last)",
      "Cell \u001b[0;32mIn[20], line 23\u001b[0m\n\u001b[1;32m     21\u001b[0m start_time \u001b[38;5;241m=\u001b[39m convertir_chaine_en_temps(start_time)\n\u001b[1;32m     22\u001b[0m end_time \u001b[38;5;241m=\u001b[39m convertir_chaine_en_temps(end_time)\n\u001b[0;32m---> 23\u001b[0m start_time \u001b[38;5;241m=\u001b[39m \u001b[43mchange_timecode\u001b[49m\u001b[43m(\u001b[49m\u001b[43mstart_time\u001b[49m\u001b[43m,\u001b[49m\u001b[43mdecalage_temporel\u001b[49m\u001b[43m)\u001b[49m\n\u001b[1;32m     24\u001b[0m end_time \u001b[38;5;241m=\u001b[39m change_timecode(end_time,decalage_temporel)\n\u001b[1;32m     25\u001b[0m output\u001b[38;5;241m.\u001b[39mwrite(\u001b[38;5;124mf\u001b[39m\u001b[38;5;124m\"\u001b[39m\u001b[38;5;132;01m{\u001b[39;00mstart_time\u001b[38;5;132;01m}\u001b[39;00m\u001b[38;5;124m --> \u001b[39m\u001b[38;5;132;01m{\u001b[39;00mend_time\u001b[38;5;132;01m}\u001b[39;00m\u001b[38;5;130;01m\\n\u001b[39;00m\u001b[38;5;124m\"\u001b[39m)\n",
      "Cell \u001b[0;32mIn[9], line 10\u001b[0m, in \u001b[0;36mchange_timecode\u001b[0;34m(temps_str, decalage)\u001b[0m\n\u001b[1;32m      7\u001b[0m temps_datetime \u001b[38;5;241m=\u001b[39m datetime\u001b[38;5;241m.\u001b[39mcombine(datetime\u001b[38;5;241m.\u001b[39mmin, temps_objet)\n\u001b[1;32m      9\u001b[0m \u001b[38;5;66;03m# Ajouter 1 seconde à l'objet datetime\u001b[39;00m\n\u001b[0;32m---> 10\u001b[0m temps_datetime \u001b[38;5;241m=\u001b[39m \u001b[43mtemps_datetime\u001b[49m\u001b[43m \u001b[49m\u001b[38;5;241;43m+\u001b[39;49m\u001b[43m \u001b[49m\u001b[43mtimedelta\u001b[49m\u001b[43m(\u001b[49m\u001b[43mseconds\u001b[49m\u001b[38;5;241;43m=\u001b[39;49m\u001b[43mdecalage_temporel\u001b[49m\u001b[43m)\u001b[49m\n\u001b[1;32m     12\u001b[0m \u001b[38;5;66;03m# Extraire l'objet time du résultat\u001b[39;00m\n\u001b[1;32m     13\u001b[0m temps_objet_modifie \u001b[38;5;241m=\u001b[39m temps_datetime\u001b[38;5;241m.\u001b[39mtime()\n",
      "\u001b[0;31mOverflowError\u001b[0m: date value out of range"
     ]
    }
   ],
   "source": [
    "# Bruiter les sous-titres.\n",
    "# Définir les paramètres de la distribution normale\n",
    "moyenne = 0\n",
    "ecart_type = 1\n",
    "borne_inf = -5 # information BOBSL\n",
    "borne_sup = 13 # information BOBSL\n",
    "\n",
    "# Parcourt la liste des fichiers dans files_list\n",
    "for file in files_list:\n",
    "    # Construit le chemin pour le nouveau fichier VTT\n",
    "    new_file = \"non_aligned_mediapi_sent_seg/\" + str(os.path.splitext(os.path.basename(file))[0]) + \".vtt\"\n",
    "    \n",
    "    # Ouvre le fichier original en mode lecture\n",
    "    with open(file, \"r\") as file:\n",
    "        # Ouvre le nouveau fichier VTT en mode écriture\n",
    "        with open(new_file, \"w\") as output:\n",
    "            # Initialise une chaîne vide pour stocker le contenu modifié\n",
    "            content = \"\"\n",
    "            \n",
    "            # Lit la première ligne du fichier original\n",
    "            line = file.readline()\n",
    "            last_end_time = None\n",
    "\n",
    "            # Boucle pour parcourir chaque ligne du fichier original\n",
    "            while line:\n",
    "                try:\n",
    "                    # Vérifie si la ligne commence par \"00:\", \"01:\", ou \"02:\"\n",
    "                    if line.startswith(\"00:\") or line.startswith(\"01:\") or line.startswith(\"02:\"):\n",
    "                        # Générer une valeur aléatoire à partir de la distribution normale\n",
    "                        valeur_normale = np.random.normal(loc=moyenne, scale=ecart_type)\n",
    "\n",
    "                        # Ajuster la valeur pour respecter les bornes inférieure et supérieure\n",
    "                        decalage_temporel = np.clip(valeur_normale, borne_inf, borne_sup)\n",
    "\n",
    "                        # Divise la ligne de timing en deux parties : start_time et end_time\n",
    "                        timing_line = line.strip().split(' --> ')\n",
    "                        start_time, end_time = timing_line\n",
    "\n",
    "                        # Convertit les chaînes de temps en objets de temps pour la vérification en dessous\n",
    "                        start_time = m.convertir_chaine_en_temps(start_time)\n",
    "                        end_time = m.convertir_chaine_en_temps(end_time)\n",
    "\n",
    "                        # Vérifie si start_time est inférieur à last_end_time\n",
    "                        if last_end_time is not None and start_time < last_end_time:\n",
    "                            # Si c'est le cas, ajuste start_time pour qu'il soit égal à last_end_time\n",
    "                            start_time = last_end_time\n",
    "\n",
    "                        # Applique le décalage temporel aux temps de début et de fin\n",
    "                        start_time = m.change_timecode(start_time, decalage_temporel)\n",
    "                        end_time = m.change_timecode(end_time, decalage_temporel)\n",
    "\n",
    "                        # Écrit les nouvelles lignes de timing dans le fichier de sortie\n",
    "                        output.write(f\"{start_time} --> {end_time}\\n\")\n",
    "\n",
    "                        # Met à jour last_end_time avec la nouvelle valeur de end_time\n",
    "                        last_end_time = end_time\n",
    "                    else:\n",
    "                        # Si la ligne ne commence pas par \"00:\", \"01:\", ou \"02:\", la copie telle quelle\n",
    "                        output.write(line)\n",
    "                except (OverflowError, ValueError) as e:\n",
    "                    # Gère les erreurs OverflowError et ValueError, affiche un message et copie la ligne non modifiée\n",
    "                    print(f\"Erreur : {e}. Ligne non modifiée : {line} du fichier {file}\")\n",
    "                    output.write(line)\n",
    "                    pass\n",
    "\n",
    "                # Lit la ligne suivante du fichier original\n",
    "                line = file.readline()\n",
    "\n"
   ]
  },
  {
   "cell_type": "code",
   "execution_count": null,
   "metadata": {},
   "outputs": [],
   "source": []
  }
 ],
 "metadata": {
  "kernelspec": {
   "display_name": "subtitleAlign",
   "language": "python",
   "name": "python3"
  },
  "language_info": {
   "codemirror_mode": {
    "name": "ipython",
    "version": 3
   },
   "file_extension": ".py",
   "mimetype": "text/x-python",
   "name": "python",
   "nbconvert_exporter": "python",
   "pygments_lexer": "ipython3",
   "version": "3.12.1"
  }
 },
 "nbformat": 4,
 "nbformat_minor": 2
}
