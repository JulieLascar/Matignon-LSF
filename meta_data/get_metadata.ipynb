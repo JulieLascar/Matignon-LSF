{
 "cells": [
  {
   "cell_type": "markdown",
   "metadata": {},
   "source": [
    "# Récupérer les métadonnées des vidéos Matignon-LSF"
   ]
  },
  {
   "cell_type": "code",
   "execution_count": 1,
   "metadata": {},
   "outputs": [],
   "source": [
    "from pytube import YouTube"
   ]
  },
  {
   "cell_type": "code",
   "execution_count": 2,
   "metadata": {},
   "outputs": [],
   "source": [
    "import re\n",
    "import csv"
   ]
  },
  {
   "cell_type": "code",
   "execution_count": 3,
   "metadata": {},
   "outputs": [],
   "source": [
    "from pytube.exceptions import VideoUnavailable"
   ]
  },
  {
   "cell_type": "code",
   "execution_count": 4,
   "metadata": {},
   "outputs": [],
   "source": [
    "def convert_seconds_to_time(total_seconds):\n",
    "    # Calcul des heures, minutes et secondes\n",
    "    hours = total_seconds // 3600\n",
    "    minutes = (total_seconds % 3600) // 60\n",
    "    seconds = total_seconds % 60\n",
    "\n",
    "    # Formatage du résultat\n",
    "    time_str = f\"{hours}:{minutes}:{seconds}\"\n",
    "\n",
    "    return time_str\n"
   ]
  },
  {
   "cell_type": "code",
   "execution_count": 5,
   "metadata": {},
   "outputs": [],
   "source": [
    "month = [\"janvier\",\"fevrier\",\"mars\",\"avril\",\"mai\",\"juin\",\"juillet\",\"août\",\"septembre\",\"octobre\",\"novembre\",\"décembre\"]\n",
    "months_regex = '|'.join(month)"
   ]
  },
  {
   "cell_type": "code",
   "execution_count": 6,
   "metadata": {},
   "outputs": [],
   "source": [
    "list_video = []\n",
    "with open(\"list_id_video.txt\",\"r\",encoding=\"utf-8\") as f:\n",
    "    for line in f:\n",
    "        list_video.append(line.strip())\n"
   ]
  },
  {
   "cell_type": "code",
   "execution_count": 7,
   "metadata": {},
   "outputs": [],
   "source": [
    "with open(\"metada_Matignon-LSF.csv\",\"w\",encoding=\"utf-8\",newline='') as file:\n",
    "    fieldnames = [\"id\",\"name\",\"subtitle\",\"audio\",\"title\",\"date\",\"duration\",\"fps\",\"res\"]\n",
    "    writer = csv.DictWriter(file, fieldnames=fieldnames)\n",
    "    writer.writeheader()\n",
    "    list_dict = []\n",
    "    dict_data = {}\n",
    "    for video_id in list_video:\n",
    "        dict_data = {'id': video_id, \"name\": f\"{video_id}_clip_cropped.mp4\", \"subtitle\": f\"{video_id}.json\",\n",
    "                        \"audio\": f\"{video_id}_audio.mp3\"}\n",
    "\n",
    "        try:\n",
    "            yt = YouTube(f\"http://youtube.com/watch?v={video_id}\")\n",
    "            title = yt.title\n",
    "            dict_data[\"title\"] = title\n",
    "\n",
    "            # Initialize fps and res to N/A in case no suitable stream is found\n",
    "            dict_data[\"fps\"] = \"N/A\"\n",
    "            dict_data[\"res\"] = \"N/A\"\n",
    "\n",
    "            for stream in yt.streams:\n",
    "                if stream.resolution and stream.fps:\n",
    "                    dict_data[\"fps\"] = stream.fps\n",
    "                    dict_data[\"res\"] = stream.resolution\n",
    "                    break  # Exit loop once a suitable stream is found\n",
    "\n",
    "            dict_data[\"duration\"] = yt.length/60\n",
    "\n",
    "            date_match = re.search(r'(\\d{1,2}(er)? [a-zA-Zéû]+ \\d{4})', title)\n",
    "            if date_match:\n",
    "                date_str = date_match.group(1)\n",
    "                dict_data[\"date\"] = date_str\n",
    "            else:\n",
    "                dict_data[\"date\"] = \"unknown\"\n",
    "\n",
    "        except VideoUnavailable:\n",
    "            # Handle VideoUnavailable exception\n",
    "            dict_data[\"title\"] = \"video indisponible\"\n",
    "            dict_data[\"date\"] = \"N/A\"\n",
    "            dict_data[\"duration\"] = \"N/A\"\n",
    "\n",
    "        except Exception as e:\n",
    "            # Handle other exceptions\n",
    "            print(f\"Une erreur s'est produite lors du traitement de la vidéo avec l'ID {video_id}: {str(e)}\")\n",
    "            dict_data[\"title\"] = \"N/A\"\n",
    "            dict_data[\"date\"] = \"N/A\"\n",
    "            dict_data[\"duration\"] = \"N/A\"\n",
    "\n",
    "        list_dict.append(dict_data)\n",
    "\n",
    "    for row in list_dict:\n",
    "        writer.writerow(row)"
   ]
  },
  {
   "cell_type": "code",
   "execution_count": 8,
   "metadata": {},
   "outputs": [
    {
     "name": "stdout",
     "output_type": "stream",
     "text": [
      "id\n",
      "Total Length: 2411.3499999999995 66 36.53560606060605\n"
     ]
    }
   ],
   "source": [
    "length_total = 0\n",
    "liste_length = []\n",
    "total_row = 0\n",
    "with open(\"metada_Matignon-LSF.csv\", \"r\", encoding=\"utf-8\") as f:\n",
    "    for row in f:\n",
    "        valeur = row.strip().split(\",\")\n",
    "        id, _, _, _, _,_, length, _, _ = valeur\n",
    "        if length !=\"N/A\" and length !=\"duration\":\n",
    "            length_total += float(length)\n",
    "            liste_length.append(float(length))\n",
    "            total_row +=1\n",
    "        else:\n",
    "            print(id)\n",
    "\n",
    "print(\"Total Length:\", length_total, total_row, length_total/total_row)\n"
   ]
  },
  {
   "cell_type": "code",
   "execution_count": 9,
   "metadata": {},
   "outputs": [
    {
     "data": {
      "image/png": "[encoded data removed]",
      "text/plain": [
       "<Figure size 640x480 with 1 Axes>"
      ]
     },
     "metadata": {},
     "output_type": "display_data"
    }
   ],
   "source": [
    "import matplotlib.pyplot as plt\n",
    "import numpy as np\n",
    "\n",
    "# Supposons que vous avez une liste de durées de vidéos en minutes\n",
    "durees_videos = liste_length\n",
    "\n",
    "# Créer un histogramme\n",
    "plt.hist(durees_videos, bins=20, color='blue', edgecolor='black')\n",
    "\n",
    "# Calculer la valeur moyenne\n",
    "moyenne = np.mean(durees_videos)\n",
    "\n",
    "# Ajouter une ligne verticale pour représenter la valeur moyenne\n",
    "plt.axvline(moyenne, color='red', linestyle='dashed', linewidth=2, label='Mean')\n",
    "\n",
    "# Ajouter la valeur moyenne en tant que texte\n",
    "plt.text(moyenne, plt.ylim()[1], f'Mean: {moyenne:.2f}', color='red', verticalalignment='bottom', horizontalalignment='right')\n",
    "\n",
    "# Ajouter des labels et un titre\n",
    "plt.xlabel('Video duration')\n",
    "plt.ylabel('Count')\n",
    "plt.title('Distribution over video durations', loc=\"right\")\n",
    "\n",
    "# Ajouter une légende\n",
    "plt.legend()\n",
    "\n",
    "\n",
    "plt.savefig(\"distribution_over_video_durations.png\")\n",
    "# Afficher la figure\n",
    "plt.show()"
   ]
  },
  {
   "cell_type": "code",
   "execution_count": 55,
   "metadata": {},
   "outputs": [],
   "source": [
    "def lister_fichiers_with_path(dossier):\n",
    "    path = dossier\n",
    "    try:\n",
    "        # Liste de tous les fichiers dans le dossier\n",
    "        fichiers = [os.path.join(path,f) for f in os.listdir(dossier) if os.path.isfile(os.path.join(dossier, f))]\n",
    "        return fichiers\n",
    "    except Exception as e:\n",
    "        print(f\"Erreur lors de la récupération des fichiers : {e}\")\n",
    "        return None\n",
    "    \n",
    "\n",
    "def lister_fichiers(dossier):\n",
    "    path = dossier\n",
    "    try:\n",
    "        # Liste de tous les fichiers dans le dossier\n",
    "        fichiers = [f for f in os.listdir(dossier) if os.path.isfile(os.path.join(dossier, f))]\n",
    "        return fichiers\n",
    "    except Exception as e:\n",
    "        print(f\"Erreur lors de la récupération des fichiers : {e}\")\n",
    "        return None"
   ]
  },
  {
   "cell_type": "code",
   "execution_count": 57,
   "metadata": {},
   "outputs": [],
   "source": [
    "import os"
   ]
  },
  {
   "cell_type": "code",
   "execution_count": 58,
   "metadata": {},
   "outputs": [],
   "source": [
    "files_path = lister_fichiers_with_path(\"../preprocess_subtitles/sentence_segmentation_subtitles/test_sent_file_cr/\")\n",
    "name_file = lister_fichiers(\"../preprocess_subtitles/sentence_segmentation_subtitles/test_sent_file_cr/\")"
   ]
  },
  {
   "cell_type": "code",
   "execution_count": 67,
   "metadata": {},
   "outputs": [
    {
     "name": "stdout",
     "output_type": "stream",
     "text": [
      "8ZUIw7jcaZE.vtt\n",
      "280\n",
      "hegyfM0YipI.vtt\n",
      "535\n",
      "8IqhpOiPMxY.vtt\n",
      "974\n",
      "H448NJiwMRI.vtt\n",
      "1156\n",
      "jNouEg1YgKQ.vtt\n",
      "1461\n",
      "6fsIXStr6w4.vtt\n",
      "1659\n",
      "CDsP8gaVGbg.vtt\n",
      "1979\n",
      "rpcc3B2P31Q.vtt\n",
      "2311\n",
      "K7WqKupeGVk.vtt\n",
      "2591\n",
      "nK47Jj-GdTo.vtt\n",
      "2879\n",
      "YmXGfLxTvFQ.vtt\n",
      "3358\n",
      "F5-w4cvC_L0.vtt\n",
      "3615\n",
      "-LhfYZ1ihpI.vtt\n",
      "3982\n",
      "dGxmroECIlU.vtt\n",
      "4235\n",
      "jo4puWxt-Ik.vtt\n",
      "4472\n",
      "VZeIXQAt2C8.vtt\n",
      "4750\n",
      "aKGSwBZpRXw.vtt\n",
      "4982\n",
      "qVYiLFZojws.vtt\n",
      "5276\n",
      "j6bYWLKPuPs.vtt\n",
      "5547\n",
      "qUZ5TOoL1EE.vtt\n",
      "5988\n",
      "V-XRefvjCEU.vtt\n",
      "6285\n",
      "aTtX70EXGVo.vtt\n",
      "6523\n",
      "pyC6EXZ449c.vtt\n",
      "6688\n",
      "CxgdUjywiDE.vtt\n",
      "6924\n",
      "awTzYOLwLSc.vtt\n",
      "7366\n",
      "1MHphyCtLLE.vtt\n",
      "7662\n",
      "Y0AmWgJwbVg.vtt\n",
      "7935\n",
      "3TEX9ruhaXo.vtt\n",
      "8164\n",
      "1ILfD_BjLNk.vtt\n",
      "8410\n",
      "vlNNOM4i3Q0.vtt\n",
      "8561\n",
      "M5SVtrVMQm0.vtt\n",
      "8700\n",
      "wMDNQG0oA7k.vtt\n",
      "9109\n",
      "LicjiPStTmU.vtt\n",
      "9342\n",
      "zwr3T94t0ZE.vtt\n",
      "9617\n",
      "_Lx00No3bZc.vtt\n",
      "9711\n",
      "B62_uSapEhI.vtt\n",
      "9962\n",
      "1AjRdJ5d_Ww.vtt\n",
      "10175\n",
      "ub_iGqVn8EU.vtt\n",
      "10509\n",
      "Yw0atlzQbEs.vtt\n",
      "10770\n",
      "KhxgwQDJpCg.vtt\n",
      "10929\n",
      "RenNdZa3-QY.vtt\n",
      "11154\n",
      "X3SSQD7qsTw.vtt\n",
      "11471\n",
      "_PJ2xR9-o94.vtt\n",
      "11630\n",
      "G3Tz-srNvjs.vtt\n",
      "11918\n",
      "Sy7uU8DAsfs.vtt\n",
      "12096\n",
      "Vyl8jrHGA6k.vtt\n",
      "12422\n",
      "pDAM2zcA24U.vtt\n",
      "12862\n",
      "0hXvxmgHk_c.vtt\n",
      "13000\n",
      "SdneZpqEo-8.vtt\n",
      "13492\n",
      "QXVJZkmva3s.vtt\n",
      "13785\n",
      "FDNmSH37IEk.vtt\n",
      "14168\n",
      "bz7gcxK4YxY.vtt\n",
      "14348\n",
      "Wn_c9fnOItw.vtt\n",
      "14635\n",
      "NiQIWYxm8EQ.vtt\n",
      "14959\n",
      "nD9wATmlLkI.vtt\n",
      "15254\n",
      "aaYtgrh_uDo.vtt\n",
      "15436\n",
      "0IViLqFmgIY.vtt\n",
      "15869\n",
      "hO5I1a3jlgo.vtt\n",
      "16093\n",
      "qCEWtQkcJGU.vtt\n",
      "16384\n",
      "ky_4nkig3JI.vtt\n",
      "16714\n",
      "K7UFz1gAzAQ.vtt\n",
      "16828\n",
      "pyap-khe584.vtt\n",
      "17079\n",
      "onVujB43-dw.vtt\n",
      "17407\n",
      "-sgE2QHsskA.vtt\n",
      "17596\n",
      "0-RtcGGzUoE.vtt\n",
      "17921\n",
      "V6VNZD5jLH8.vtt\n",
      "18192\n",
      "H0dUQaWH3UE.vtt\n",
      "18490\n"
     ]
    }
   ],
   "source": [
    "count_sent = 0\n",
    "\n",
    "for path,name in zip(files_path,name_file):\n",
    "    print(name)\n",
    "    with open(path,\"r\",encoding=\"utf-8\") as f:\n",
    "        count_sent = count_sent + len(f.readlines())\n",
    "        print(count_sent)"
   ]
  },
  {
   "cell_type": "code",
   "execution_count": 66,
   "metadata": {},
   "outputs": [
    {
     "data": {
      "text/plain": [
       "0"
      ]
     },
     "execution_count": 66,
     "metadata": {},
     "output_type": "execute_result"
    }
   ],
   "source": [
    "count_sent"
   ]
  },
  {
   "cell_type": "code",
   "execution_count": null,
   "metadata": {},
   "outputs": [],
   "source": []
  }
 ],
 "metadata": {
  "kernelspec": {
   "display_name": "lexenv",
   "language": "python",
   "name": "python3"
  },
  "language_info": {
   "codemirror_mode": {
    "name": "ipython",
    "version": 3
   },
   "file_extension": ".py",
   "mimetype": "text/x-python",
   "name": "python",
   "nbconvert_exporter": "python",
   "pygments_lexer": "ipython3",
   "version": "3.11.7"
  }
 },
 "nbformat": 4,
 "nbformat_minor": 2
}
