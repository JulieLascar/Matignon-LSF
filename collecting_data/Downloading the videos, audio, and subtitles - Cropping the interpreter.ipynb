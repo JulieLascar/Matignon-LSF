{
 "cells": [
  {
   "cell_type": "code",
   "execution_count": 1,
   "id": "52574cbd",
   "metadata": {},
   "outputs": [],
   "source": [
    "from pytube import YouTube, Playlist\n",
    "import cv2\n",
    "import numpy as np\n",
    "import re\n",
    "from matplotlib import pyplot as plt\n",
    "from IPython.display import clear_output\n",
    "import os\n",
    "from youtube_transcript_api.formatters import JSONFormatter\n",
    "import tqdm\n",
    "#import moviepy.editor as mpe\n",
    "import pytube\n",
    "from youtube_transcript_api import YouTubeTranscriptApi"
   ]
  },
  {
   "cell_type": "markdown",
   "id": "6d7ff36c",
   "metadata": {},
   "source": [
    "# Folder creation"
   ]
  },
  {
   "cell_type": "code",
   "execution_count": 2,
   "id": "d1e81017",
   "metadata": {},
   "outputs": [],
   "source": [
    "root_path = \"Matignon-LSFv1_data\"\n",
    "os.makedirs(root_path, exist_ok=True)\n",
    "os.makedirs(root_path+'/video', exist_ok=True)\n",
    "os.makedirs(root_path+'/audio', exist_ok=True)\n",
    "os.makedirs(root_path+'/subtitles', exist_ok=True)\n",
    "os.makedirs(root_path+'/cropped_videos', exist_ok=True)"
   ]
  },
  {
   "cell_type": "markdown",
   "id": "b6db96a8",
   "metadata": {},
   "source": [
    "# Video, subtitle and audio downloading\n",
    "Set the YouTube Playlist"
   ]
  },
  {
   "cell_type": "code",
   "execution_count": 3,
   "id": "0f476919",
   "metadata": {},
   "outputs": [],
   "source": [
    "#p = Playlist('https://www.youtube.com/playlist?list=PLQo4IzmQ0lgnIRQe0tmWr9qCn7_vQNXWy')\n",
    "p = Playlist('https://www.youtube.com/watch?v=XanQoeiLfSI&list=PLSa7CvPe2Ias7ME-30VzqBoT_Ae1YT6Ph')"
   ]
  },
  {
   "cell_type": "code",
   "execution_count": 4,
   "id": "12edd667",
   "metadata": {
    "scrolled": true
   },
   "outputs": [
    {
     "name": "stderr",
     "output_type": "stream",
     "text": [
      " 44%|██████████████████████████████████████████████████████████████████████████████████████████████████████████████████████████████████████████████████████████████▊                                                                                                                                                                                                            | 7/16 [01:00<01:04,  7.19s/it]"
     ]
    },
    {
     "name": "stdout",
     "output_type": "stream",
     "text": [
      "\n",
      "Could not retrieve a transcript for the video https://www.youtube.com/watch?v=qfRpUR1aR0s! This is most likely caused by:\n",
      "\n",
      "Subtitles are disabled for this video\n",
      "\n",
      "If you are sure that the described cause is not responsible for this error and that a transcript should be retrievable, please create an issue at https://github.com/jdepoix/youtube-transcript-api/issues. Please add which version of youtube_transcript_api you are using and provide the information needed to replicate the error. Also make sure that there are no open issues which already describe your problem! qfRpUR1aR0s\n"
     ]
    },
    {
     "name": "stderr",
     "output_type": "stream",
     "text": [
      "100%|██████████████████████████████████████████████████████████████████████████████████████████████████████████████████████████████████████████████████████████████████████████████████████████████████████████████████████████████████████████████████████████████████████████████████████████████████████████████████████████████████████████████████████████████████████████| 16/16 [02:22<00:00,  8.91s/it]\n"
     ]
    }
   ],
   "source": [
    "prefix = \"\"\n",
    "i = 0\n",
    "total_duration_in_s = 0\n",
    "for video in tqdm.tqdm(p.videos):\n",
    "    # Download subtitles\n",
    "    try:\n",
    "        video_id = video.video_id\n",
    "        subtitles = YouTubeTranscriptApi.get_transcript(video.video_id, languages=['fr', 'fr-FR'])\n",
    "        transcript_list = YouTubeTranscriptApi.list_transcripts(video.video_id)\n",
    "        for transcript in transcript_list:\n",
    "            if not transcript.is_generated:\n",
    "                subtitles = transcript.fetch()\n",
    "                break\n",
    "        formatter = JSONFormatter()\n",
    "\n",
    "        # .format_transcript(transcript) turns the transcript into a JSON string.\n",
    "        json_formatted = formatter.format_transcript(subtitles)\n",
    "\n",
    "        # Now we can write it out to a file.\n",
    "        with open(root_path+'/subtitles/'+video.video_id+'.json', \"w\") as json_file:\n",
    "            json_file.write(json_formatted)\n",
    "\n",
    "\n",
    "        vname = root_path+'/video/'+video.video_id+\"_clip.mp4\"\n",
    "        aname = root_path+'/audio/'+video.video_id+\"_audio.mp3\"\n",
    "\n",
    "        # Download video and rename\n",
    "        stream_to_download = video.streams.filter(\n",
    "            subtype='mp4', res=\"1080p\").first()\n",
    "        video_file = stream_to_download.download()\n",
    "        os.rename(video_file, vname)\n",
    "\n",
    "        # Download audio and rename\n",
    "        audio = video.streams.filter(only_audio=True).first().download()\n",
    "        os.rename(audio, aname)\n",
    "\n",
    "        \n",
    "\n",
    "\n",
    "        i+=1\n",
    "    except  Exception as e:\n",
    "        print(e, video.video_id)\n",
    "        continue"
   ]
  },
  {
   "cell_type": "markdown",
   "id": "ec53fd0f",
   "metadata": {},
   "source": [
    "# Cropping the videos"
   ]
  },
  {
   "cell_type": "code",
   "execution_count": 5,
   "id": "22772800",
   "metadata": {},
   "outputs": [],
   "source": [
    "def crop_video(filename, out_filename, fps, x0, x1, y0, y1, visualize=False):\n",
    "\n",
    "    cap = cv2.VideoCapture(filename)\n",
    "    out = cv2.VideoWriter(out_filename, cv2.VideoWriter_fourcc(*'MP4V'), fps, (x1-x0, y1-y0))\n",
    "    frame_count = int(cap.get(cv2.CAP_PROP_FRAME_COUNT))\n",
    "    i =0\n",
    "    while cap.isOpened():\n",
    "        ret, frame = cap.read()\n",
    "        if ret != True:\n",
    "            break\n",
    "        i+=1\n",
    "        if visualize:\n",
    "            if (i%16 == 0):\n",
    "                clear_output(wait=True)\n",
    "                plt.axis(\"off\")\n",
    "                plt.imshow(frame[:, :, ::-1])\n",
    "                plt.show()\n",
    "                plt.imshow(frame[y0:y1, x0:x1, ::-1])\n",
    "                plt.show()\n",
    "        out.write(frame[y0:y1, x0:x1])\n",
    "        \n",
    "    out.release()\n",
    "    return frame_count\n",
    "    "
   ]
  },
  {
   "cell_type": "markdown",
   "id": "a1e45670",
   "metadata": {},
   "source": [
    "It might be necessary to adjust the bounding box position for the cropping"
   ]
  },
  {
   "cell_type": "code",
   "execution_count": null,
   "id": "28f6ee29",
   "metadata": {},
   "outputs": [
    {
     "name": "stderr",
     "output_type": "stream",
     "text": [
      "OpenCV: FFMPEG: tag 0x5634504d/'MP4V' is not supported with codec id 12 and format 'mp4 / MP4 (MPEG-4 Part 14)'\n",
      "OpenCV: FFMPEG: fallback to use tag 0x7634706d/'mp4v'\n"
     ]
    },
    {
     "name": "stdout",
     "output_type": "stream",
     "text": [
      "Matignon-LSFv1_data/cropped_videos/XanQoeiLfSI_clip_cropped.mp4\n"
     ]
    }
   ],
   "source": [
    "for file in os.listdir(root_path+'/video/'):\n",
    "    outfilename = (root_path+'/cropped_videos/'+file).replace(\".mp4\", \"_cropped.mp4\")\n",
    "    print(outfilename)\n",
    "    crop_video(root_path+'/video/'+file, outfilename,  30, 1334, 1334+494, 417, 417+494, visualize=False)\n"
   ]
  },
  {
   "cell_type": "code",
   "execution_count": null,
   "id": "1d2197ad",
   "metadata": {},
   "outputs": [],
   "source": [
    "# Kept as a history of bounding boxes positions\n",
    "#crop_video(root_path+'/video/Not_cropped/'+i, 30, 1380, 1380+494, 381, 381+494)\n",
    "#crop_video(root_path+'/video/new/'+i,(root_path+'/video/Cropped/'+i).replace(\".mp4\", \"_cropped.mp4\")  30, 1335, 1335+494, 381, 381+494)\n",
    "#crop_video(root_path+'/video/Not_cropped/'+i, 30, 1358, 1358+494, 381, 381+494)\n",
    "#crop_video(root_path+'/video/Not_cropped/'+i, 30, 1527, 1527+345, 520, 520+345)"
   ]
  }
 ],
 "metadata": {
  "kernelspec": {
   "display_name": "Python 3 (ipykernel)",
   "language": "python",
   "name": "python3"
  },
  "language_info": {
   "codemirror_mode": {
    "name": "ipython",
    "version": 3
   },
   "file_extension": ".py",
   "mimetype": "text/x-python",
   "name": "python",
   "nbconvert_exporter": "python",
   "pygments_lexer": "ipython3",
   "version": "3.9.7"
  }
 },
 "nbformat": 4,
 "nbformat_minor": 5
}
