{
 "cells": [
  {
   "cell_type": "code",
   "execution_count": 1,
   "id": "52574cbd",
   "metadata": {},
   "outputs": [],
   "source": [
    "from pytube import YouTube, Playlist\n",
    "import cv2\n",
    "import numpy as np\n",
    "import re\n",
    "from matplotlib import pyplot as plt\n",
    "from IPython.display import clear_output\n",
    "import os\n",
    "from youtube_transcript_api.formatters import JSONFormatter\n",
    "import tqdm\n",
    "#import moviepy.editor as mpe\n",
    "import pytube\n",
    "from youtube_transcript_api import YouTubeTranscriptApi"
   ]
  },
  {
   "cell_type": "code",
   "execution_count": 2,
   "id": "d1e81017",
   "metadata": {},
   "outputs": [],
   "source": [
    "root_path = \".\"\n",
    "#os.mkdir(root_path)\n",
    "#os.mkdir(root_path+'/video')\n",
    "#os.mkdir(root_path+'/sentences')\n",
    "#os.mkdir(root_path+'/subtitles')"
   ]
  },
  {
   "cell_type": "code",
   "execution_count": 12,
   "id": "22772800",
   "metadata": {},
   "outputs": [],
   "source": [
    "def crop_video(filename, out_filename, fps, x0, x1, y0, y1, visualize=False):\n",
    "\n",
    "    cap = cv2.VideoCapture(filename)\n",
    "    out = cv2.VideoWriter(out_filename, cv2.VideoWriter_fourcc(*'DIVX'), fps, (x1-x0, y1-y0))\n",
    "    frame_count = int(cap.get(cv2.CAP_PROP_FRAME_COUNT))\n",
    "    i =0\n",
    "    while cap.isOpened():\n",
    "        ret, frame = cap.read()\n",
    "        if ret != True:\n",
    "            break\n",
    "        i+=1\n",
    "        if visualize:\n",
    "            if (i%16 == 0):\n",
    "                clear_output(wait=True)\n",
    "                plt.axis(\"off\")\n",
    "                plt.imshow(frame[:, :, ::-1])\n",
    "                plt.show()\n",
    "                plt.imshow(frame[y0:y1, x0:x1, ::-1])\n",
    "                plt.show()\n",
    "        out.write(frame[y0:y1, x0:x1])\n",
    "        \n",
    "    out.release()\n",
    "    return frame_count\n",
    "    "
   ]
  },
  {
   "cell_type": "code",
   "execution_count": 47,
   "id": "e6ca7d27",
   "metadata": {},
   "outputs": [],
   "source": [
    "ids = [vid.split(\"_clip\")[0] for vid in os.listdir(root_path+'/video/')]"
   ]
  },
  {
   "cell_type": "code",
   "execution_count": 10,
   "id": "12edd667",
   "metadata": {
    "scrolled": true
   },
   "outputs": [
    {
     "name": "stderr",
     "output_type": "stream",
     "text": [
      "  6%|████████████████▊                                                                                                                                                                                                                                                            | 1/16 [01:00<15:12, 60.84s/it]"
     ]
    },
    {
     "name": "stdout",
     "output_type": "stream",
     "text": [
      "./video/XanQoeiLfSI_clip.mp4\n"
     ]
    },
    {
     "name": "stderr",
     "output_type": "stream",
     "text": [
      "\r",
      " 12%|█████████████████████████████████▋                                                                                                                                                                                                                                           | 2/16 [02:05<14:42, 63.01s/it]"
     ]
    },
    {
     "name": "stdout",
     "output_type": "stream",
     "text": [
      "./video/D0izjU_ycxM_clip.mp4\n"
     ]
    },
    {
     "name": "stderr",
     "output_type": "stream",
     "text": [
      "\r",
      " 19%|██████████████████████████████████████████████████▍                                                                                                                                                                                                                          | 3/16 [03:49<17:43, 81.83s/it]"
     ]
    },
    {
     "name": "stdout",
     "output_type": "stream",
     "text": [
      "./video/67SJcEa6gWE_clip.mp4\n"
     ]
    },
    {
     "name": "stderr",
     "output_type": "stream",
     "text": [
      "\r",
      " 25%|███████████████████████████████████████████████████████████████████▎                                                                                                                                                                                                         | 4/16 [04:40<13:57, 69.80s/it]"
     ]
    },
    {
     "name": "stdout",
     "output_type": "stream",
     "text": [
      "./video/NRoPhBfulUM_clip.mp4\n"
     ]
    },
    {
     "name": "stderr",
     "output_type": "stream",
     "text": [
      "\r",
      " 31%|████████████████████████████████████████████████████████████████████████████████████                                                                                                                                                                                         | 5/16 [06:11<14:08, 77.11s/it]"
     ]
    },
    {
     "name": "stdout",
     "output_type": "stream",
     "text": [
      "./video/3TEX9ruhaXo_clip.mp4\n"
     ]
    },
    {
     "name": "stderr",
     "output_type": "stream",
     "text": [
      "\r",
      " 38%|████████████████████████████████████████████████████████████████████████████████████████████████████▉                                                                                                                                                                        | 6/16 [07:34<13:11, 79.11s/it]"
     ]
    },
    {
     "name": "stdout",
     "output_type": "stream",
     "text": [
      "./video/qVYiLFZojws_clip.mp4\n"
     ]
    },
    {
     "name": "stderr",
     "output_type": "stream",
     "text": [
      "\r",
      " 44%|█████████████████████████████████████████████████████████████████████████████████████████████████████████████████████▋                                                                                                                                                       | 7/16 [07:34<08:00, 53.41s/it]"
     ]
    },
    {
     "name": "stdout",
     "output_type": "stream",
     "text": [
      "\n",
      "Could not retrieve a transcript for the video https://www.youtube.com/watch?v=qfRpUR1aR0s! This is most likely caused by:\n",
      "\n",
      "Subtitles are disabled for this video\n",
      "\n",
      "If you are sure that the described cause is not responsible for this error and that a transcript should be retrievable, please create an issue at https://github.com/jdepoix/youtube-transcript-api/issues. Please add which version of youtube_transcript_api you are using and provide the information needed to replicate the error. Also make sure that there are no open issues which already describe your problem! qfRpUR1aR0s\n"
     ]
    },
    {
     "name": "stderr",
     "output_type": "stream",
     "text": [
      "\r",
      " 50%|██████████████████████████████████████████████████████████████████████████████████████████████████████████████████████████████████████▌                                                                                                                                      | 8/16 [08:48<07:59, 59.89s/it]"
     ]
    },
    {
     "name": "stdout",
     "output_type": "stream",
     "text": [
      "./video/K7WqKupeGVk_clip.mp4\n"
     ]
    },
    {
     "name": "stderr",
     "output_type": "stream",
     "text": [
      "\r",
      " 56%|███████████████████████████████████████████████████████████████████████████████████████████████████████████████████████████████████████████████████████▎                                                                                                                     | 9/16 [09:57<07:19, 62.72s/it]"
     ]
    },
    {
     "name": "stdout",
     "output_type": "stream",
     "text": [
      "./video/H448NJiwMRI_clip.mp4\n"
     ]
    },
    {
     "name": "stderr",
     "output_type": "stream",
     "text": [
      "\r",
      " 62%|███████████████████████████████████████████████████████████████████████████████████████████████████████████████████████████████████████████████████████████████████████▌                                                                                                    | 10/16 [11:44<07:38, 76.47s/it]"
     ]
    },
    {
     "name": "stdout",
     "output_type": "stream",
     "text": [
      "./video/-LhfYZ1ihpI_clip.mp4\n"
     ]
    },
    {
     "name": "stderr",
     "output_type": "stream",
     "text": [
      "\r",
      " 69%|████████████████████████████████████████████████████████████████████████████████████████████████████████████████████████████████████████████████████████████████████████████████████████▎                                                                                   | 11/16 [13:09<06:35, 79.17s/it]"
     ]
    },
    {
     "name": "stdout",
     "output_type": "stream",
     "text": [
      "./video/pyC6EXZ449c_clip.mp4\n"
     ]
    },
    {
     "name": "stderr",
     "output_type": "stream",
     "text": [
      "\r",
      " 75%|█████████████████████████████████████████████████████████████████████████████████████████████████████████████████████████████████████████████████████████████████████████████████████████████████████████                                                                   | 12/16 [14:07<04:50, 72.62s/it]"
     ]
    },
    {
     "name": "stdout",
     "output_type": "stream",
     "text": [
      "./video/_Lx00No3bZc_clip.mp4\n"
     ]
    },
    {
     "name": "stderr",
     "output_type": "stream",
     "text": [
      "\r",
      " 81%|█████████████████████████████████████████████████████████████████████████████████████████████████████████████████████████████████████████████████████████████████████████████████████████████████████████████████████████▊                                                  | 13/16 [15:02<03:21, 67.25s/it]"
     ]
    },
    {
     "name": "stdout",
     "output_type": "stream",
     "text": [
      "./video/vlNNOM4i3Q0_clip.mp4\n"
     ]
    },
    {
     "name": "stderr",
     "output_type": "stream",
     "text": [
      "\r",
      " 88%|██████████████████████████████████████████████████████████████████████████████████████████████████████████████████████████████████████████████████████████████████████████████████████████████████████████████████████████████████████████▌                                 | 14/16 [16:47<02:37, 78.78s/it]"
     ]
    },
    {
     "name": "stdout",
     "output_type": "stream",
     "text": [
      "./video/hegyfM0YipI_clip.mp4\n"
     ]
    },
    {
     "name": "stderr",
     "output_type": "stream",
     "text": [
      "\r",
      " 94%|███████████████████████████████████████████████████████████████████████████████████████████████████████████████████████████████████████████████████████████████████████████████████████████████████████████████████████████████████████████████████████████▎                | 15/16 [17:54<01:15, 75.10s/it]"
     ]
    },
    {
     "name": "stdout",
     "output_type": "stream",
     "text": [
      "./video/_PJ2xR9-o94_clip.mp4\n"
     ]
    },
    {
     "name": "stderr",
     "output_type": "stream",
     "text": [
      "100%|████████████████████████████████████████████████████████████████████████████████████████████████████████████████████████████████████████████████████████████████████████████████████████████████████████████████████████████████████████████████████████████████████████████| 16/16 [19:06<00:00, 71.63s/it]"
     ]
    },
    {
     "name": "stdout",
     "output_type": "stream",
     "text": [
      "./video/-sgE2QHsskA_clip.mp4\n"
     ]
    },
    {
     "name": "stderr",
     "output_type": "stream",
     "text": [
      "\n"
     ]
    }
   ],
   "source": [
    "#p = Playlist('https://www.youtube.com/playlist?list=PLQo4IzmQ0lgnIRQe0tmWr9qCn7_vQNXWy')\n",
    "p = Playlist('https://www.youtube.com/watch?v=XanQoeiLfSI&list=PLSa7CvPe2Ias7ME-30VzqBoT_Ae1YT6Ph')\n",
    "prefix = \"\"\n",
    "i = 0\n",
    "total_duration_in_s = 0\n",
    "for video in tqdm.tqdm(p.videos):\n",
    "#for video_id in ids:\n",
    "    # Download subtitles\n",
    "    try:\n",
    "        video_id = video.video_id\n",
    "        #video = YouTube('https://youtu.be/'+video.video_id)\n",
    "        #subtitles = YouTubeTranscriptApi.get_transcript(video.video_id, languages=['fr', 'fr-FR'])\n",
    "        transcript_list = YouTubeTranscriptApi.list_transcripts(video.video_id)\n",
    "        for transcript in transcript_list:\n",
    "            if not transcript.is_generated:\n",
    "                subtitles = transcript.fetch()\n",
    "                break\n",
    "        formatter = JSONFormatter()\n",
    "\n",
    "        # .format_transcript(transcript) turns the transcript into a JSON string.\n",
    "        json_formatted = formatter.format_transcript(subtitles)\n",
    "\n",
    "        # Now we can write it out to a file.\n",
    "        with open(root_path+'/subtitles/'+video.video_id+'.json', \"w\") as json_file:\n",
    "            json_file.write(json_formatted)\n",
    "\n",
    "\n",
    "        vname = root_path+'/video/'+video.video_id+\"_clip.mp4\"\n",
    "        aname = root_path+'/audio/'+video.video_id+\"_audio.mp3\"\n",
    "\n",
    "        #if video.video_id+\"_clip.mp4\" in os.listdir(root_path+'/video/'):\n",
    "        #    continue\n",
    "\n",
    "        # Download video\n",
    "\n",
    "        # Download video and rename\n",
    "        stream_to_download = video.streams.filter(\n",
    "            subtype='mp4', res=\"1080p\").first()\n",
    "        video_file = stream_to_download.download()\n",
    "        os.rename(video_file, vname)\n",
    "\n",
    "        # Download audio and rename\n",
    "        audio = video.streams.filter(only_audio=True).first().download()\n",
    "        os.rename(audio, aname)\n",
    "\n",
    "        # Setting the audio to the video\n",
    "        #video_file = mpe.VideoFileClip(vname)\n",
    "        #audio = mpe.AudioFileClip(aname)\n",
    "        #final = video_file.set_audio(audio)\n",
    "\n",
    "        filename = root_path+'/video/'+video.video_id+'.mp4'\n",
    "        #final.write_videofile(filename)\n",
    "\n",
    "        print(vname)\n",
    "        #crop_video(filename, stream_to_download.fps, 1260, 1920, 130, 1080-230)\n",
    "        #frame_count = crop_video(vname, stream_to_download.fps, 1335, 1335+494, 381, 381+494)\n",
    "        #print(frame_count)\n",
    "        #total_duration_in_s+=frame_count/stream_to_download.fps\n",
    "        #print(total_duration_in_s)\n",
    "        i+=1\n",
    "    except  Exception as e:\n",
    "        print(e, video.video_id)\n",
    "        continue"
   ]
  },
  {
   "cell_type": "code",
   "execution_count": 56,
   "id": "eac63ad3",
   "metadata": {},
   "outputs": [
    {
     "data": {
      "text/plain": [
       "['-sgE2QHsskA',\n",
       " '_PJ2xR9-o94',\n",
       " 'hegyfM0YipI',\n",
       " 'vlNNOM4i3Q0',\n",
       " '_Lx00No3bZc',\n",
       " 'pyC6EXZ449c',\n",
       " '-LhfYZ1ihpI',\n",
       " 'qVYiLFZojws',\n",
       " '3TEX9ruhaXo',\n",
       " 'YyO2d7ZZb4c',\n",
       " 'INvO4Ectcis',\n",
       " 'EBwPVk_PJZo',\n",
       " 'C7f-IjuLHNU',\n",
       " 'K7WqKupeGVk',\n",
       " 'upGV_bF44UA',\n",
       " 'mDb0VUU941A',\n",
       " 'H448NJiwMRI',\n",
       " '7YzXbA6tflg',\n",
       " 'Garbage',\n",
       " 'iqkkojs48cs',\n",
       " 'Pr1moED2e9U',\n",
       " 'wTsEtFsu3Lo',\n",
       " 'Qfvyamw8MZE',\n",
       " 'Mf-GnJSLZDY',\n",
       " 'ILwrcneO24M',\n",
       " 'bnKk6UGCPoo',\n",
       " 'nzFtJjs7JR0',\n",
       " 'adr5US0Fxkc',\n",
       " 'bV6NPF-2A_E',\n",
       " 'JYLZsv6C1Eg',\n",
       " '4syzbtFHmj4',\n",
       " 'K6oH3gw-KRg',\n",
       " 'wUxtPYWAbWw',\n",
       " '3kbLFtSP_5A',\n",
       " '5rEqVoHYP5Y',\n",
       " 'CYqEwrxg1uo',\n",
       " '5FjKiEqSTTY',\n",
       " 't-hD8_LDoew',\n",
       " '.DS_Store',\n",
       " 'cAjgwArlzQs',\n",
       " 'CLxUr5NyCRE',\n",
       " 'A-FsXRSwrOE',\n",
       " 'ir7jQeEgWv8',\n",
       " 'tzR0SuxLw94',\n",
       " 'flLDFctRQ98',\n",
       " 'G5T-wgFYwSE',\n",
       " 'w6eAgy3Hp7E',\n",
       " 'rT6jt46R4ic',\n",
       " 'AUlT4Uw8-gU',\n",
       " 'NixvFwHMvQI',\n",
       " '9FQ-H4tHb2g',\n",
       " 'k2xDoIsIzec',\n",
       " 'Q1F08kejk6k',\n",
       " 'h8kqHFSYV5w',\n",
       " 'mIa0mtKaR6k',\n",
       " '00CxpPeS4-A',\n",
       " 'ikpi-HeIEs4',\n",
       " 'gfnstXsOGZM',\n",
       " 'VYCm7pdYezA',\n",
       " 'FzZ_DPbNsTs',\n",
       " 'dB_ZCikKjiU',\n",
       " 'AQcr7JvU_TI',\n",
       " '6oJxjK4vXRs',\n",
       " 'AKTAYNa1YpQ',\n",
       " 'iLr2-eG03Fg',\n",
       " 'p7jXAww0GbA',\n",
       " 'b-Zl2Muvw-k',\n",
       " 'ixuGCfPf-a0',\n",
       " 'PXmrFxYdEAI',\n",
       " 'UItsAzTUJ9k',\n",
       " 'NrxtRnpWV1Q',\n",
       " 'sQ6eOEKGRk0',\n",
       " 'DLQjD3gXVNw',\n",
       " 'lP4vtNoS0RY',\n",
       " 'Jbw9Sm2DwUw',\n",
       " 'deQvE9tr5uE',\n",
       " '7cw022teuA4',\n",
       " 'E4ErYxPlNrc',\n",
       " '4NSnQO_h-sM',\n",
       " 'lzEZg9vxdvI',\n",
       " 'hGk3dsXQZnU',\n",
       " 'QxcGmAZVZUk',\n",
       " 'h3U6NBGzInE',\n",
       " 'bomQ8sMYoHw',\n",
       " 'knl9gp8tex8',\n",
       " 'n6QJm2IMtb8',\n",
       " '0WcAsbc_4GY',\n",
       " 'OG3Mu2SKY-4',\n",
       " 'rgwL5JXnMkE',\n",
       " 'aADt4rmUt4I',\n",
       " 'QX2BWgRewV4',\n",
       " 'eyVbv3jHtDU',\n",
       " '9OrEKKPv-Bg',\n",
       " 'P1pKPPRPhxk',\n",
       " 'aTtX70EXGVo',\n",
       " '9mayTCNZ9DE',\n",
       " 'ky_4nkig3JI',\n",
       " '1AjRdJ5d_Ww',\n",
       " 'V6VNZD5jLH8',\n",
       " 'jo4puWxt-Ik',\n",
       " 'KhxgwQDJpCg',\n",
       " 'aaYtgrh_uDo',\n",
       " '6fsIXStr6w4',\n",
       " 'CxgdUjywiDE',\n",
       " '1MHphyCtLLE',\n",
       " 'CDsP8gaVGbg',\n",
       " 'Vyl8jrHGA6k',\n",
       " 'qCEWtQkcJGU',\n",
       " 'H0dUQaWH3UE',\n",
       " 'j6bYWLKPuPs',\n",
       " 'Y0AmWgJwbVg',\n",
       " '0hXvxmgHk_c',\n",
       " 'Wn_c9fnOItw',\n",
       " 'wMDNQG0oA7k',\n",
       " 'V-XRefvjCEU',\n",
       " 'FDNmSH37IEk',\n",
       " '8ZUIw7jcaZE',\n",
       " 'G3Tz-srNvjs',\n",
       " '8IqhpOiPMxY',\n",
       " '7y05-idJQ28',\n",
       " 'nK47Jj-GdTo',\n",
       " '1ILfD_BjLNk',\n",
       " '0IViLqFmgIY',\n",
       " 'Yw0atlzQbEs',\n",
       " 'onVujB43-dw',\n",
       " '0Rws4ExDhHs',\n",
       " 'qUZ5TOoL1EE',\n",
       " '0-RtcGGzUoE',\n",
       " 'rpcc3B2P31Q',\n",
       " 'zwr3T94t0ZE',\n",
       " 'pyap-khe584',\n",
       " 'SdneZpqEo-8',\n",
       " 'pDAM2zcA24U',\n",
       " 'B62_uSapEhI',\n",
       " 'NiQIWYxm8EQ',\n",
       " 'ub_iGqVn8EU',\n",
       " 'nD9wATmlLkI',\n",
       " 'QXVJZkmva3s',\n",
       " 'aKGSwBZpRXw',\n",
       " 'jNouEg1YgKQ',\n",
       " 'F5-w4cvC_L0',\n",
       " 'RenNdZa3-QY',\n",
       " 'X3SSQD7qsTw',\n",
       " 'YmXGfLxTvFQ',\n",
       " 'LicjiPStTmU',\n",
       " 'VZeIXQAt2C8',\n",
       " 'hO5I1a3jlgo',\n",
       " 'K7UFz1gAzAQ',\n",
       " 'awTzYOLwLSc',\n",
       " '5Pl42YUlrgo',\n",
       " 'M5SVtrVMQm0',\n",
       " 'bz7gcxK4YxY',\n",
       " 'Sy7uU8DAsfs',\n",
       " 'dGxmroECIlU']"
      ]
     },
     "execution_count": 56,
     "metadata": {},
     "output_type": "execute_result"
    }
   ],
   "source": [
    "ids"
   ]
  },
  {
   "cell_type": "code",
   "execution_count": 43,
   "id": "02b9be98",
   "metadata": {},
   "outputs": [
    {
     "name": "stdout",
     "output_type": "stream",
     "text": [
      "https://youtu.be/NRoPhBfulUM\n"
     ]
    }
   ],
   "source": [
    "video_id = \"NRoPhBfulUM\"\n",
    "print('https://youtu.be/'+video_id)\n",
    "video = YouTube('https://youtu.be/'+video_id)\n",
    "subtitles = YouTubeTranscriptApi.get_transcript(video_id, languages=['fr', 'fr-FR'])\n",
    "transcript_list = YouTubeTranscriptApi.list_transcripts(video.video_id)\n",
    "for transcript in transcript_list:\n",
    "    if not transcript.is_generated:\n",
    "        subtitles = transcript.fetch()\n",
    "formatter = JSONFormatter()\n",
    "\n",
    "# .format_transcript(transcript) turns the transcript into a JSON string.\n",
    "json_formatted = formatter.format_transcript(subtitles)\n",
    "\n",
    "# Now we can write it out to a file.\n",
    "with open(root_path+'/subtitles/'+video.video_id+'.json', \"w\") as json_file:\n",
    "    json_file.write(json_formatted)\n",
    "\n",
    "\n",
    "\n",
    "\n",
    "vname = root_path+'/video/'+video_id+\"_clip.mp4\"\n",
    "aname = root_path+'/video/'+video_id+\"_audio.mp3\"\n",
    "\n",
    "# Download video and rename\n",
    "#stream_to_download = video.streams.filter(\n",
    "#    subtype='mp4', res=\"1080p\").first()\n",
    "#video_file = stream_to_download.download()\n",
    "#os.rename(video_file, vname)\n",
    "#\n",
    "## Download audio and rename\n",
    "#audio = video.streams.filter(only_audio=True).first().download()\n",
    "#os.rename(audio, aname)\n",
    "#\n",
    "## Setting the audio to the video\n",
    "#video_file = mpe.VideoFileClip(vname)\n",
    "#audio = mpe.AudioFileClip(aname)\n",
    "#final = video_file.set_audio(audio)\n",
    "#\n",
    "#filename = root_path+'/video/'+video.video_id+'.mp4'\n",
    "#final.write_videofile(filename)\n",
    "\n",
    "#frame_count = crop_video(vname, stream_to_download.fps, 1335, 1335+494, 410, 410+494)\n"
   ]
  },
  {
   "cell_type": "code",
   "execution_count": 21,
   "id": "28f6ee29",
   "metadata": {},
   "outputs": [
    {
     "name": "stderr",
     "output_type": "stream",
     "text": [
      "OpenCV: FFMPEG: tag 0x58564944/'DIVX' is not supported with codec id 12 and format 'mp4 / MP4 (MPEG-4 Part 14)'\n",
      "OpenCV: FFMPEG: fallback to use tag 0x7634706d/'mp4v'\n",
      "OpenCV: FFMPEG: tag 0x58564944/'DIVX' is not supported with codec id 12 and format 'mp4 / MP4 (MPEG-4 Part 14)'\n",
      "OpenCV: FFMPEG: fallback to use tag 0x7634706d/'mp4v'\n",
      "OpenCV: FFMPEG: tag 0x58564944/'DIVX' is not supported with codec id 12 and format 'mp4 / MP4 (MPEG-4 Part 14)'\n",
      "OpenCV: FFMPEG: fallback to use tag 0x7634706d/'mp4v'\n",
      "OpenCV: FFMPEG: tag 0x58564944/'DIVX' is not supported with codec id 12 and format 'mp4 / MP4 (MPEG-4 Part 14)'\n",
      "OpenCV: FFMPEG: fallback to use tag 0x7634706d/'mp4v'\n",
      "OpenCV: FFMPEG: tag 0x58564944/'DIVX' is not supported with codec id 12 and format 'mp4 / MP4 (MPEG-4 Part 14)'\n",
      "OpenCV: FFMPEG: fallback to use tag 0x7634706d/'mp4v'\n",
      "OpenCV: FFMPEG: tag 0x58564944/'DIVX' is not supported with codec id 12 and format 'mp4 / MP4 (MPEG-4 Part 14)'\n",
      "OpenCV: FFMPEG: fallback to use tag 0x7634706d/'mp4v'\n",
      "OpenCV: FFMPEG: tag 0x58564944/'DIVX' is not supported with codec id 12 and format 'mp4 / MP4 (MPEG-4 Part 14)'\n",
      "OpenCV: FFMPEG: fallback to use tag 0x7634706d/'mp4v'\n",
      "OpenCV: FFMPEG: tag 0x58564944/'DIVX' is not supported with codec id 12 and format 'mp4 / MP4 (MPEG-4 Part 14)'\n",
      "OpenCV: FFMPEG: fallback to use tag 0x7634706d/'mp4v'\n",
      "OpenCV: FFMPEG: tag 0x58564944/'DIVX' is not supported with codec id 12 and format 'mp4 / MP4 (MPEG-4 Part 14)'\n",
      "OpenCV: FFMPEG: fallback to use tag 0x7634706d/'mp4v'\n",
      "OpenCV: FFMPEG: tag 0x58564944/'DIVX' is not supported with codec id 12 and format 'mp4 / MP4 (MPEG-4 Part 14)'\n",
      "OpenCV: FFMPEG: fallback to use tag 0x7634706d/'mp4v'\n",
      "OpenCV: FFMPEG: tag 0x58564944/'DIVX' is not supported with codec id 12 and format 'mp4 / MP4 (MPEG-4 Part 14)'\n",
      "OpenCV: FFMPEG: fallback to use tag 0x7634706d/'mp4v'\n"
     ]
    }
   ],
   "source": [
    "for file in os.listdir(root_path+'/video/new'):\n",
    "    #crop_video(root_path+'/video/Not_cropped/'+file, 30, 1335, 1335+494, 381, 381+494)\n",
    "    outfilename = (root_path+'/video/Cropped/'+file).replace(\".mp4\", \"_cropped.mp4\")\n",
    "    crop_video(root_path+'/video/new/'+file, outfilename,  30, 1334, 1334+494, 417, 417+494, visualize=False)\n"
   ]
  },
  {
   "cell_type": "code",
   "execution_count": 6,
   "id": "1d2197ad",
   "metadata": {},
   "outputs": [
    {
     "name": "stderr",
     "output_type": "stream",
     "text": [
      "OpenCV: FFMPEG: tag 0x58564944/'DIVX' is not supported with codec id 12 and format 'mp4 / MP4 (MPEG-4 Part 14)'\n",
      "OpenCV: FFMPEG: fallback to use tag 0x7634706d/'mp4v'\n"
     ]
    }
   ],
   "source": [
    "videos_decalees = [\"5Pl42YUlrgo_clip.mp4\"]\n",
    "for i in videos_decalees:\n",
    "    #crop_video(root_path+'/video/Not_cropped/'+i, 30, 1380, 1380+494, 381, 381+494)\n",
    "    crop_video(root_path+'/video/new/'+i,(root_path+'/video/Cropped/'+i).replace(\".mp4\", \"_cropped.mp4\")  30, 1335, 1335+494, 381, 381+494)\n",
    "    #crop_video(root_path+'/video/Not_cropped/'+i, 30, 1358, 1358+494, 381, 381+494)\n",
    "    #crop_video(root_path+'/video/Not_cropped/'+i, 30, 1527, 1527+345, 520, 520+345)"
   ]
  },
  {
   "cell_type": "code",
   "execution_count": 31,
   "id": "7c37efe1",
   "metadata": {},
   "outputs": [
    {
     "data": {
      "text/plain": [
       "85"
      ]
     },
     "execution_count": 31,
     "metadata": {},
     "output_type": "execute_result"
    }
   ],
   "source": [
    "kept_videos = os.listdir(root_path+'/video/Cropped')\n",
    "i = 0\n",
    "for sub in os.listdir(root_path+'/audio/'):\n",
    "    if sub.split('_audio')[0]+'_clip_cropped.mp4' not in kept_videos:\n",
    "        i+=1\n",
    "        os.remove(root_path+'/audio/'+sub)\n",
    "i"
   ]
  }
 ],
 "metadata": {
  "kernelspec": {
   "display_name": "Python 3 (ipykernel)",
   "language": "python",
   "name": "python3"
  },
  "language_info": {
   "codemirror_mode": {
    "name": "ipython",
    "version": 3
   },
   "file_extension": ".py",
   "mimetype": "text/x-python",
   "name": "python",
   "nbconvert_exporter": "python",
   "pygments_lexer": "ipython3",
   "version": "3.9.7"
  }
 },
 "nbformat": 4,
 "nbformat_minor": 5
}
